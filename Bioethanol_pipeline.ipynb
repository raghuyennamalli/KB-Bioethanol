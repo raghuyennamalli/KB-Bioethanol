{
  "nbformat": 4,
  "nbformat_minor": 0,
  "metadata": {
    "colab": {
      "name": "Bioethanol-pipeline.ipynb",
      "private_outputs": true,
      "provenance": [],
      "collapsed_sections": []
    },
    "kernelspec": {
      "display_name": "Python 3",
      "name": "python3"
    },
    "language_info": {
      "name": "python"
    }
  },
  "cells": [
    {
      "cell_type": "markdown",
      "metadata": {
        "id": "KhgaWfZR1ni7"
      },
      "source": [
        "## Downloading/installing required libraries"
      ]
    },
    {
      "cell_type": "markdown",
      "metadata": {
        "id": "RrWIuiv63IgS"
      },
      "source": [
        "NOTE: This script at the moment is hard-coded to run the pipeline on the samples of GSE168595"
      ]
    },
    {
      "cell_type": "code",
      "metadata": {
        "id": "xIR1OK_cl9Es"
      },
      "source": [
        "!sudo apt-get install fastqc\n",
        "!sudo python3 -m pip install cutadapt\n",
        "!pip install pysradb\n",
        "!gdown --id 1h2zIwVfOE0syTvVKlIHxgDtc0Fi2gMSq\n",
        "!tar -zxvf dependencies.tar.gz \n",
        "!rm dependencies.tar.gz"
      ],
      "execution_count": null,
      "outputs": []
    },
    {
      "cell_type": "markdown",
      "metadata": {
        "id": "xZNpsiJ11mDx"
      },
      "source": [
        "## Granting execution access to fetched libraries "
      ]
    },
    {
      "cell_type": "code",
      "metadata": {
        "id": "_A4N_GeHHwbh"
      },
      "source": [
        "!chmod 755 dependencies/TrimGalore/trim_galore\n",
        "!chmod 755 dependencies/enaBrowserTools/python3/enaDataGet"
      ],
      "execution_count": null,
      "outputs": []
    },
    {
      "cell_type": "markdown",
      "metadata": {
        "id": "0iVXTEdX2R3r"
      },
      "source": [
        "## Fetching datasets --> FASTQC --> TrimGalore --> Tophat "
      ]
    },
    {
      "cell_type": "code",
      "metadata": {
        "id": "Q4Wn2BzYl-uD"
      },
      "source": [
        "import subprocess as sp\n",
        "import os\n",
        "import json\n",
        "import re\n",
        "\n",
        "pwd = \"dependencies/\" \n",
        "with open(pwd + \"metadata.json\") as file:\n",
        "    data = json.load(file)\n",
        "\n",
        "samples = []\n",
        "for sample in data[2]['Samples']:\n",
        "    samples.append(sample['Accession'])\n",
        "\n",
        "sample = samples[0]\n",
        "\n",
        "#Downloading SRR files\n",
        "fetch_srr = sp.run([\"pysradb\", \"gsm-to-srr\", sample], capture_output=True, text=True)\n",
        "console_output = fetch_srr.stdout\n",
        "SRR_file = (console_output.split()[-1])\n",
        "print (SRR_file)\n",
        "\n",
        "ena = pwd + \"enaBrowserTools/python3/enaDataGet -f fastq -d /content/ \" + SRR_file\n",
        "sp.run(ena.split(), capture_output=True, text=True)\n",
        "print (\"Completed downloading files...\\nRunning FASTQC\")\n",
        "dir = \"mkdir ./\" + SRR_file + \"/trimmed\"\n",
        "sp.run (dir.split(), capture_output=True)\n"
      ],
      "execution_count": null,
      "outputs": []
    },
    {
      "cell_type": "code",
      "metadata": {
        "id": "08bJNg9hUuwF"
      },
      "source": [
        "#user defined function to run FASTQC\n",
        "def run_fastqc(fastq_file):\n",
        "  fastqc_cmd = \"fastqc \" + fastq_file\n",
        "  sp.run(fastqc_cmd.split(), capture_output=True, text=True)\n",
        "  print (\"Completed running FASTQC...\")"
      ],
      "execution_count": null,
      "outputs": []
    },
    {
      "cell_type": "code",
      "metadata": {
        "id": "nbMhTd1rSEZh"
      },
      "source": [
        "#User defined function to parse fastqc report\n",
        "def fastqc_parse (folder, fqc_loc):\n",
        "  unzip = \"unzip \" + folder + \"/\" + fqc_loc + \".zip \" + fqc_loc + \"/fastqc_data.txt -d /content/\" + folder\n",
        "  sp.run(unzip.split(),capture_output=True)\n",
        "\n",
        "  with open (folder + \"/\" + fqc_loc + \"/fastqc_data.txt\") as handle:\n",
        "    lines = handle.readlines()\n",
        "    fail = [1 for line in lines if re.findall(\"fail\",line)]\n",
        "  return len(fail)"
      ],
      "execution_count": null,
      "outputs": []
    },
    {
      "cell_type": "code",
      "metadata": {
        "id": "fOym-z7WStAu"
      },
      "source": [
        "#User defined function to run TrimGalore\n",
        "def trim_reads(file_to_trim,folder,paired=False):\n",
        "  print (\"Running TrimGalore! ...\")\n",
        "  if(paired):\n",
        "    trim_cmd = pwd + \"TrimGalore/trim_galore --fastqc --illumina -q 30 --paired \" + file_to_trim + \" -O ./\" + SRR_file + \"/trimmed/\"+folder\n",
        "  else:\n",
        "    trim_cmd = pwd + \"TrimGalore/trim_galore --fastqc --illumina -q 30 \" + file_to_trim + \" -O ./\" + SRR_file + \"/trimmed/\"+folder \n",
        "  \n",
        "  sp.run(trim_cmd.split(),capture_output=True, text=True)\n",
        "  print (\"Completed running TrimGalore!\")"
      ],
      "execution_count": null,
      "outputs": []
    },
    {
      "cell_type": "code",
      "metadata": {
        "id": "E3jGnmwX5nVR"
      },
      "source": [
        "#Running FASTQC and TrimGalore on downloaded files\n",
        "SRR_path = \"./\" + SRR_file + \"/\" + SRR_file\n",
        "reads_to_align = []\n",
        "\n",
        "if (len(os.listdir(\"./\" + SRR_file)) == 2):\n",
        "  run_fastqc(SRR_path + \".fastq.gz\")\n",
        "  count_og = fastqc_parse(\"./\" + SRR_file , SRR_file + \"_fastqc\")\n",
        "  trim_reads(SRR_path + \".fastq.gz\", \"round1\") \n",
        "  count_trim = fastqc_parse(\"./\" + SRR_file + \"/trimmed/round1\" , SRR_file + \"_trimmed_fastqc\")\n",
        "\n",
        "  if (count_og > count_trim):\n",
        "    print (\"Trim again\")\n",
        "  elif (count_og == count_trim):\n",
        "    print (\"File to use = trimmed\")\n",
        "    reads_to_align.insert(0,\"./\" + SRR_file + \"/trimmed/round1/\" + SRR_file + \"_trimmed.fq.gz\")\n",
        "  else:\n",
        "    print (\"File to use = original\")\n",
        "    reads_to_align.insert(0,SRR_path + \".fastq.gz\")\n",
        "\n",
        "else: \n",
        "  run_fastqc(SRR_path + \"_1.fastq.gz \" + SRR_path + \"_2.fastq.gz\")\n",
        "  count_og = fastqc_parse(\"./\" + SRR_file, SRR_file + \"_1_fastqc\") + fastqc_parse(\"./\" + SRR_file, SRR_file + \"_2_fastqc\")\n",
        "  trim_reads(SRR_path + \"_1.fastq.gz \" + SRR_path + \"_2.fastq.gz\",\"round1\",True)\n",
        "  count_trim = fastqc_parse(\"./\" + SRR_file + \"/trimmed/round1\" , SRR_file + \"_1_val_1_fastqc\") + fastqc_parse(\"./\" + SRR_file + \"/trimmed/round1\" , SRR_file + \"_2_val_2_fastqc\")\n",
        "\n",
        "  if (count_og > count_trim):\n",
        "    print (\"Trim again\")\n",
        "  elif (count_og == count_trim):\n",
        "    print (\"File to use = trimmed\")\n",
        "    reads_to_align.insert(0,\"./\" + SRR_file + \"/trimmed/round1/\" + SRR_file + \"_1_val_1.fq.gz\")\n",
        "    reads_to_align.insert(1,\"./\" + SRR_file + \"/trimmed/round1/\" + SRR_file + \"_2_val_2.fq.gz\")\n",
        "  else:\n",
        "    print (\"File to use = original\")\n",
        "    reads_to_align.insert(0,SRR_path + \"_1.fastq.gz\")\n",
        "    reads_to_align.insert(1,SRR_path + \"_2.fastq.gz\")\n"
      ],
      "execution_count": null,
      "outputs": []
    },
    {
      "cell_type": "code",
      "metadata": {
        "id": "qP9yw8Cyx3NQ"
      },
      "source": [
        "fq_path = []\n",
        "if len(reads_to_align) == 1:\n",
        "  fq_path.insert(0, reads_to_align[0][:-3])\n",
        "  gz_file = \"gunzip \" + reads_to_align[0]\n",
        "  sp.run(gz_file.split())\n",
        "else:\n",
        "  fq_path.insert(0, reads_to_align[0][:-3])\n",
        "  fq_path.insert(1, reads_to_align[1][:-3])\n",
        "  gz_file = \"gunzip \" + reads_to_align[0]\n",
        "  sp.run(gz_file.split())\n",
        "  gz_file = \"gunzip \" + reads_to_align[1]\n",
        "  sp.run(gz_file.split())\n",
        "fq_direc = \"/\".join(reads_to_align[0].split('/')[1:-1])"
      ],
      "execution_count": null,
      "outputs": []
    },
    {
      "cell_type": "code",
      "metadata": {
        "id": "-xfY1BhWyvKv"
      },
      "source": [
        "! sudo apt-get install tophat"
      ],
      "execution_count": null,
      "outputs": []
    },
    {
      "cell_type": "code",
      "metadata": {
        "id": "6MdncWds_TZZ"
      },
      "source": [
        "! gdown --id 1YA1EZ8YDHCEaM3dXGkmlWKZ5o5McSQ9I"
      ],
      "execution_count": null,
      "outputs": []
    },
    {
      "cell_type": "code",
      "metadata": {
        "id": "CDpdQcUIy-Rb"
      },
      "source": [
        "index_genome = \"bowtie2-build N_crassa_genome.fna /content/\" + fq_direc + \"/N_Crassa-ref\"\n",
        "print(index_genome)\n",
        "sp.run(index_genome.split())"
      ],
      "execution_count": null,
      "outputs": []
    },
    {
      "cell_type": "code",
      "metadata": {
        "id": "u4DCJBBp1Xgh"
      },
      "source": [
        "if len(fq_path) == 2:\n",
        "  tophat_job = \"tophat -r 20 \" + fq_direc + \"/N_Crassa-ref \" + fq_path[0] + \" \" + fq_path[1]\n",
        "else:\n",
        "  tophat_job = \"tophat -r 20 \" + fq_direc + \"/N_Crassa-ref \" + fq_path[0]\n",
        "sp.run(tophat_job.split(), capture_output=True)"
      ],
      "execution_count": null,
      "outputs": []
    },
    {
      "cell_type": "code",
      "metadata": {
        "id": "9LGT6ZAFm1D6"
      },
      "source": [
        "rm -r SRR13919670"
      ],
      "execution_count": null,
      "outputs": []
    },
    {
      "cell_type": "code",
      "source": [
        ""
      ],
      "metadata": {
        "id": "_-CoHeYGr_D-"
      },
      "execution_count": null,
      "outputs": []
    }
  ]
}