{
  "cells": [
    {
      "cell_type": "markdown",
      "metadata": {
        "id": "6k2DKx4Bhp9E"
      },
      "source": [
        "## Installing dependencies"
      ]
    },
    {
      "cell_type": "code",
      "source": [
        "from google.colab import drive\n",
        "drive.mount('/content/drive')"
      ],
      "metadata": {
        "colab": {
          "base_uri": "https://localhost:8080/"
        },
        "id": "X8KVLj5Eq1lt",
        "outputId": "61329ae7-2467-4fb9-f000-f68884103577"
      },
      "execution_count": null,
      "outputs": [
        {
          "output_type": "stream",
          "name": "stdout",
          "text": [
            "Mounted at /content/drive\n"
          ]
        }
      ]
    },
    {
      "cell_type": "code",
      "execution_count": null,
      "metadata": {
        "id": "YveAq6UVbFWh"
      },
      "outputs": [],
      "source": [
        "!sudo apt-get install fastqc\n",
        "!sudo python3 -m pip install cutadapt\n",
        "!pip install pysradb==1.0.1\n",
        "%cd /content/drive/MyDrive/Bioethanol_pipeline\n",
        "!pwd\n",
        "!gdown --id 1D0UFQJrkBfXSiDXdsp0VQLA8YYWY0INk\n",
        "!tar -zxvf dependencies.tar.gz \n",
        "!rm dependencies.tar.gz"
      ]
    },
    {
      "cell_type": "markdown",
      "metadata": {
        "id": "VlWP6U8ic_P1"
      },
      "source": [
        "## Granting execution access to fetched libraries"
      ]
    },
    {
      "cell_type": "code",
      "execution_count": null,
      "metadata": {
        "id": "KvFRhOzdcShD"
      },
      "outputs": [],
      "source": [
        "!chmod 755 dependencies/TrimGalore/trim_galore\n",
        "!chmod 755 dependencies/enaBrowserTools/python3/enaDataGet"
      ]
    },
    {
      "cell_type": "markdown",
      "metadata": {
        "id": "WXJa8UE6eWHr"
      },
      "source": [
        "## Fetching datasets --> FASTQC --> TrimGalore --> HiSAT2"
      ]
    },
    {
      "cell_type": "code",
      "execution_count": null,
      "metadata": {
        "id": "69xZzZQYc83z",
        "colab": {
          "base_uri": "https://localhost:8080/",
          "height": 264
        },
        "outputId": "89b879a2-bce0-48a1-e886-9a0dea7fdb53"
      },
      "outputs": [
        {
          "name": "stdout",
          "output_type": "stream",
          "text": [
            "Provide a GSE id:GSE51745\n"
          ]
        },
        {
          "output_type": "error",
          "ename": "IndexError",
          "evalue": "ignored",
          "traceback": [
            "\u001b[0;31m---------------------------------------------------------------------------\u001b[0m",
            "\u001b[0;31mIndexError\u001b[0m                                Traceback (most recent call last)",
            "\u001b[0;32m<ipython-input-14-5f266db06da3>\u001b[0m in \u001b[0;36m<module>\u001b[0;34m()\u001b[0m\n\u001b[1;32m     15\u001b[0m \u001b[0;31m#print(gsm_ids)\u001b[0m\u001b[0;34m\u001b[0m\u001b[0;34m\u001b[0m\u001b[0;34m\u001b[0m\u001b[0m\n\u001b[1;32m     16\u001b[0m \u001b[0;32mdel\u001b[0m \u001b[0mgsm_ids\u001b[0m\u001b[0;34m[\u001b[0m\u001b[0;36m0\u001b[0m\u001b[0;34m]\u001b[0m\u001b[0;34m\u001b[0m\u001b[0;34m\u001b[0m\u001b[0m\n\u001b[0;32m---> 17\u001b[0;31m \u001b[0;32mdel\u001b[0m \u001b[0mgsm_ids\u001b[0m\u001b[0;34m[\u001b[0m\u001b[0;34m-\u001b[0m\u001b[0;36m1\u001b[0m\u001b[0;34m]\u001b[0m\u001b[0;34m\u001b[0m\u001b[0;34m\u001b[0m\u001b[0m\n\u001b[0m\u001b[1;32m     18\u001b[0m \u001b[0;34m\u001b[0m\u001b[0m\n\u001b[1;32m     19\u001b[0m \u001b[0msamples\u001b[0m \u001b[0;34m=\u001b[0m \u001b[0;34m[\u001b[0m\u001b[0;34m]\u001b[0m\u001b[0;34m\u001b[0m\u001b[0;34m\u001b[0m\u001b[0m\n",
            "\u001b[0;31mIndexError\u001b[0m: list assignment index out of range"
          ]
        }
      ],
      "source": [
        "import subprocess as sp\n",
        "import os\n",
        "import json\n",
        "import re\n",
        "\n",
        "pwd = \"dependencies/\" \n",
        "\n",
        "## Converting given GSE id to GSM ids\n",
        "\n",
        "gse_id = input(\"Provide a GSE id:\")\n",
        "fetch_gsm = sp.run([\"pysradb\", \"gse-to-gsm\", gse_id], capture_output=True, text=True)\n",
        "console_output = fetch_gsm.stdout\n",
        "gsm_ids = console_output.split(\"\\n\")\n",
        "\n",
        "#print(gsm_ids)\n",
        "del gsm_ids[0]\n",
        "del gsm_ids[-1]\n",
        "\n",
        "samples = []\n",
        "for gsm_id in gsm_ids:\n",
        "\tsamples.append(gsm_id.split(' ')[1])\n",
        "\n",
        "for sample in samples:\n",
        "\t## Downloading SRR files\n",
        "\tfetch_srr = sp.run([\"pysradb\", \"gsm-to-srr\", sample], capture_output=True, text=True)\n",
        "\tconsole_output = fetch_srr.stdout\n",
        "\tSRR_file = (console_output.split()[-1])\n",
        "\tprint (SRR_file)\n",
        "\t\n",
        "\t\n",
        "\tena = pwd + \"enaBrowserTools/python3/enaDataGet -f fastq -d ./ \" + SRR_file\n",
        "\tsp.run(ena.split(), capture_output=True, text=True)\n",
        "\tprint (\"Completed downloading files...\\nRunning FASTQC\")\n",
        "\t\n",
        "\t\n",
        "\tdirec = \"mkdir ./\" + SRR_file + \"/trimmed\"\n",
        "\tsp.run (direc.split(), capture_output=True)\n",
        "\t\n",
        "\t#user defined function to run FASTQC\n",
        "\tdef run_fastqc(fastq_file):\n",
        "\t  print (\"Running FASTQC on \" + fastq_file + \"...\")\n",
        "\t  fastqc_cmd = \"fastqc \" + fastq_file\n",
        "\t  temp = sp.run(fastqc_cmd.split(), capture_output=True, text=True)  \n",
        "\t  print (temp.stderr)\n",
        "\n",
        "\t#User defined function to parse fastqc report\n",
        "\tdef fastqc_parse (folder, fqc_loc):\n",
        "\t\tunzip = \"unzip \" + folder + \"/\" + fqc_loc + \".zip \" + fqc_loc + \"/fastqc_data.txt -d ./\" + folder\n",
        "\t\tsp.run(unzip.split(),capture_output=True)\n",
        "\t\t\n",
        "\t\tprint (\"location: \" + folder + \"/\" + fqc_loc + \"/fastqc_data.txt\")\n",
        "\t\twith open (folder + \"/\" + fqc_loc + \"/fastqc_data.txt\") as handle:\n",
        "\t\t\tlines = handle.readlines()\n",
        "\t\t\tfail = [1 for line in lines if re.findall(\"fail\",line)]\n",
        "\t\treturn len(fail)\n",
        "\n",
        "\t#User defined function to run TrimGalore\n",
        "\tdef trim_reads(file_to_trim,folder,paired=False):\n",
        "\t\tprint (\"Running TrimGalore! ...\")\n",
        "\t\tif(paired):\n",
        "\t\t\ttrim_cmd = pwd + \"TrimGalore/trim_galore --fastqc --illumina -q 30 --paired \" + file_to_trim + \" -O ./\" + SRR_file + \"/trimmed/\"+folder\n",
        "\t\telse:\n",
        "\t\t\ttrim_cmd = pwd + \"TrimGalore/trim_galore --fastqc --illumina -q 30 \" + file_to_trim + \" -O ./\" + SRR_file + \"/trimmed/\"+folder \n",
        "\n",
        "\t\ttemp=sp.run(trim_cmd.split(),capture_output=True, text=True)\n",
        "\t\tprint (temp.stderr)\n",
        "\t\tprint (\"Completed running TrimGalore!\")\n",
        "\n",
        "\t#Running FASTQC and TrimGalore on downloaded files\n",
        "\tSRR_path = \"./\" + SRR_file + \"/\" + SRR_file\n",
        "\treads_to_align = []\n",
        "\n",
        "\tif (len(os.listdir(\"./\" + SRR_file)) <= 2 ):\n",
        "\t\trun_fastqc(SRR_path + \".fastq.gz\")\n",
        "\t\tcount_og = fastqc_parse(\"./\" + SRR_file , SRR_file + \"_fastqc\")\n",
        "\t\ttrim_reads(SRR_path + \".fastq.gz\", \"round1\") \n",
        "\t\tcount_trim = fastqc_parse(\"./\" + SRR_file + \"/trimmed/round1\" , SRR_file + \"_trimmed_fastqc\")\n",
        "\n",
        "\t\tif (count_og > count_trim):\n",
        "\t\t\tprint (\"Trimming again\")\n",
        "\t\t\treads_to_align.insert(0,SRR_path + \".fastq.gz\")\n",
        "\t\telif (count_og == count_trim):\n",
        "\t\t\tprint (\"File to use = trimmed\")\n",
        "\t\t\treads_to_align.insert(0,\"./\" + SRR_file + \"/trimmed/round1/\" + SRR_file + \"_trimmed.fq.gz\")\n",
        "\t\telse:\n",
        "\t\t\tprint (\"File to use = original\")\n",
        "\t\t\treads_to_align.insert(0,SRR_path + \".fastq.gz\")\n",
        "\n",
        "\telse: \n",
        "\t\trun_fastqc(SRR_path + \"_1.fastq.gz \" + SRR_path + \"_2.fastq.gz\")\n",
        "\t\tcount_og = fastqc_parse(\"./\" + SRR_file, SRR_file + \"_1_fastqc\") + fastqc_parse(\"./\" + SRR_file, SRR_file + \"_2_fastqc\")\n",
        "\t\ttrim_reads(SRR_path + \"_1.fastq.gz \" + SRR_path + \"_2.fastq.gz\",\"round1\",True)\n",
        "\t\tcount_trim = fastqc_parse(\"./\" + SRR_file + \"/trimmed/round1\" , SRR_file + \"_1_val_1_fastqc\") + fastqc_parse(\"./\" + SRR_file + \"/trimmed/round1\" , SRR_file + \"_2_val_2_fastqc\")\n",
        "\n",
        "\t\tif (count_og > count_trim):\n",
        "\t\t\tprint (\"\\nTrimming again\\n\")\n",
        "\t\t\treads_to_align.insert(0,SRR_path + \"_1.fastq.gz\")\n",
        "\t\t\treads_to_align.insert(1,SRR_path + \"_2.fastq.gz\")\n",
        "\t\telif (count_og == count_trim):\n",
        "\t\t\tprint (\"\\n\\nFile to use = trimmed\\n\\n\")\n",
        "\t\t\treads_to_align.insert(0,\"./\" + SRR_file + \"/trimmed/round1/\" + SRR_file + \"_1_val_1.fq.gz\")\n",
        "\t\t\treads_to_align.insert(1,\"./\" + SRR_file + \"/trimmed/round1/\" + SRR_file + \"_2_val_2.fq.gz\")\n",
        "\t\telse:\n",
        "\t\t\tprint (\"\\n\\nFile to use = original\\n\\n\")\n",
        "\t\t\treads_to_align.insert(0,SRR_path + \"_1.fastq.gz\")\n",
        "\t\t\treads_to_align.insert(1,SRR_path + \"_2.fastq.gz\")\n",
        "\n",
        "\tfq_path = []\n",
        "\tif len(reads_to_align) == 1:\n",
        "\t\tfq_path.insert(0, reads_to_align[0][:-3])\n",
        "\t\tgz_file = \"gunzip \" + reads_to_align[0]\n",
        "\t\tsp.run(gz_file.split())\n",
        "\telse:\n",
        "\t\tfq_path.insert(0, reads_to_align[0][:-3])\n",
        "\t\tfq_path.insert(1, reads_to_align[1][:-3])\n",
        "\t\tgz_file = \"gunzip \" + reads_to_align[0]\n",
        "\t\tsp.run(gz_file.split())\n",
        "\t\tgz_file = \"gunzip \" + reads_to_align[1] \n",
        "\t\tsp.run(gz_file.split())\n",
        "\tfq_direc = \"/\".join(reads_to_align[0].split('/')[1:-1])\n",
        "\n",
        "\tfna_file_name = \"Avibrio_tcellus_genome.fna\"\n",
        "\tindex_genome = \"./dependencies/hisat2-2.2.1/hisat2-build -p 16 \" + fna_file_name + \" \"+ fq_direc + \"/\" + fna_file_name[0:-4] + \"-ref\"\n",
        "\tsp.run(index_genome.split())\n",
        "\n",
        "\tif len(fq_path) == 2:\n",
        "\t  hisat2_job = \"./dependencies/hisat2-2.2.1/hisat2 -x \" + fq_direc + \"/\" + fna_file_name[0:-4] + \"-ref\" + \" -1 \" + fq_path[0] + \" -2 \" + fq_path[1] + \" -S \" + fq_direc + \"/\" + SRR_file+\".sam\"\n",
        "\n",
        "\telse:\n",
        "\t  hisat2_job = \"./dependencies/hisat2-2.2.1/hisat2 -x \" + fq_direc + \"/\" + fna_file_name[0:-4] + \"-ref\" + \" -U \" + fq_path[0] + \" -S \" + fq_direc + \"/\" + SRR_file+\".sam\"\n",
        "\n",
        "\ttemp = sp.run(hisat2_job.split(), capture_output=True)\n",
        "\tprint (temp.stderr)"
      ]
    },
    {
      "cell_type": "code",
      "source": [
        "from google.colab import drive\n",
        "drive.mount('/content/drive/My Drive/Bioethanol_pipeline')"
      ],
      "metadata": {
        "id": "9Ce1dLCwm6xq"
      },
      "execution_count": null,
      "outputs": []
    },
    {
      "cell_type": "code",
      "execution_count": null,
      "metadata": {
        "id": "A500FYZI8Y_o"
      },
      "outputs": [],
      "source": [
        "!rm -r SRR5684121/"
      ]
    }
  ],
  "metadata": {
    "colab": {
      "collapsed_sections": [],
      "name": "Bioethanol_pipeline_V2.ipynb",
      "provenance": []
    },
    "kernelspec": {
      "display_name": "Python 3",
      "name": "python3"
    },
    "language_info": {
      "name": "python"
    }
  },
  "nbformat": 4,
  "nbformat_minor": 0
}