{
 "cells": [
  {
   "cell_type": "code",
   "execution_count": null,
   "metadata": {},
   "outputs": [],
   "source": [
    "import configparser"
   ]
  },
  {
   "cell_type": "code",
   "execution_count": null,
   "metadata": {},
   "outputs": [],
   "source": [
    "config = configparser.ConfigParser()"
   ]
  },
  {
   "cell_type": "code",
   "execution_count": null,
   "metadata": {},
   "outputs": [],
   "source": [
    "config['NCBI'] = {}\n",
    "config['NCBI'][\"email\"]=\"\"# your email\n",
    "config['NCBI'][\"api_key\"]=\"\"# your api_key\n",
    "config['NCBI'][\"base_url\"]=\"https://eutils.ncbi.nlm.nih.gov/entrez/eutils/\"\n",
    "#\n",
    "config['mongodb'] = {}\n",
    "config['mongodb'][\"username\"]=\"\"\n",
    "config['mongodb'][\"password\"]=\"\"\n",
    "config['mongodb'][\"ip\"]=\"\"\n",
    "config['mongodb'][\"port\"]=27017"
   ]
  },
  {
   "cell_type": "code",
   "execution_count": null,
   "metadata": {},
   "outputs": [],
   "source": [
    "with open('config.ini', 'w') as configfile:\n",
    "    config.write(configfile)"
   ]
  }
 ],
 "metadata": {
  "kernelspec": {
   "display_name": "Python 3",
   "language": "python",
   "name": "python3"
  },
  "language_info": {
   "codemirror_mode": {
    "name": "ipython",
    "version": 3
   },
   "file_extension": ".py",
   "mimetype": "text/x-python",
   "name": "python",
   "nbconvert_exporter": "python",
   "pygments_lexer": "ipython3",
   "version": "3.8.10"
  }
 },
 "nbformat": 4,
 "nbformat_minor": 4
}
